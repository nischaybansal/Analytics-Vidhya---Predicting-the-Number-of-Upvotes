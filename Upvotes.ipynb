{
 "cells": [
  {
   "cell_type": "code",
   "execution_count": 1,
   "metadata": {},
   "outputs": [],
   "source": [
    "# Importing LIb\n",
    "import pandas as pd\n",
    "import numpy as np\n",
    "import seaborn as sns\n",
    "import matplotlib.pyplot as plt"
   ]
  },
  {
   "cell_type": "code",
   "execution_count": 2,
   "metadata": {},
   "outputs": [],
   "source": [
    "test = pd.read_csv('test.csv')\n",
    "data = pd.read_csv('train.csv')"
   ]
  },
  {
   "cell_type": "code",
   "execution_count": 3,
   "metadata": {},
   "outputs": [],
   "source": [
    "#test1 = test.copy()"
   ]
  },
  {
   "cell_type": "code",
   "execution_count": 4,
   "metadata": {},
   "outputs": [
    {
     "ename": "NameError",
     "evalue": "name 'train' is not defined",
     "output_type": "error",
     "traceback": [
      "\u001b[0;31m---------------------------------------------------------------------------\u001b[0m",
      "\u001b[0;31mNameError\u001b[0m                                 Traceback (most recent call last)",
      "\u001b[0;32m<ipython-input-4-3b77fa18a747>\u001b[0m in \u001b[0;36m<module>\u001b[0;34m\u001b[0m\n\u001b[0;32m----> 1\u001b[0;31m \u001b[0mtrain\u001b[0m\u001b[0;34m.\u001b[0m\u001b[0mhead\u001b[0m\u001b[0;34m(\u001b[0m\u001b[0;34m)\u001b[0m\u001b[0;34m\u001b[0m\u001b[0;34m\u001b[0m\u001b[0m\n\u001b[0m",
      "\u001b[0;31mNameError\u001b[0m: name 'train' is not defined"
     ]
    }
   ],
   "source": [
    "#train.head()"
   ]
  },
  {
   "cell_type": "code",
   "execution_count": null,
   "metadata": {},
   "outputs": [],
   "source": [
    "#print (train.shape)\n",
    "#print (test.shape)"
   ]
  },
  {
   "cell_type": "code",
   "execution_count": null,
   "metadata": {},
   "outputs": [],
   "source": [
    "#train['Heading'] = 'Train'\n",
    "#test['Heading'] = 'Test'"
   ]
  },
  {
   "cell_type": "code",
   "execution_count": null,
   "metadata": {},
   "outputs": [],
   "source": [
    "#data = pd.concat([train,test],ignore_index=True)"
   ]
  },
  {
   "cell_type": "code",
   "execution_count": null,
   "metadata": {},
   "outputs": [],
   "source": [
    "#data.head()"
   ]
  },
  {
   "cell_type": "code",
   "execution_count": null,
   "metadata": {},
   "outputs": [],
   "source": [
    "#data.shape"
   ]
  },
  {
   "cell_type": "code",
   "execution_count": 5,
   "metadata": {},
   "outputs": [
    {
     "data": {
      "text/plain": [
       "ID            0\n",
       "Tag           0\n",
       "Reputation    0\n",
       "Answers       0\n",
       "Username      0\n",
       "Views         0\n",
       "Upvotes       0\n",
       "dtype: int64"
      ]
     },
     "execution_count": 5,
     "metadata": {},
     "output_type": "execute_result"
    }
   ],
   "source": [
    "data.isnull().sum()"
   ]
  },
  {
   "cell_type": "code",
   "execution_count": 6,
   "metadata": {},
   "outputs": [],
   "source": [
    "#data.dtypes"
   ]
  },
  {
   "cell_type": "code",
   "execution_count": 7,
   "metadata": {},
   "outputs": [],
   "source": [
    "#data['Tag'].unique()"
   ]
  },
  {
   "cell_type": "code",
   "execution_count": 8,
   "metadata": {},
   "outputs": [],
   "source": [
    "#data.describe()"
   ]
  },
  {
   "cell_type": "code",
   "execution_count": 9,
   "metadata": {},
   "outputs": [],
   "source": [
    "from sklearn.preprocessing import StandardScaler,PolynomialFeatures\n",
    "from sklearn.model_selection import train_test_split\n",
    "\n",
    "from sklearn.metrics import mean_squared_error,r2_score\n",
    "from sklearn.model_selection import learning_curve,cross_val_score,validation_curve,train_test_split,KFold\n",
    "\n",
    "from sklearn.linear_model import LinearRegression\n",
    "from xgboost import XGBRegressor,plot_importance\n",
    "import joblib"
   ]
  },
  {
   "cell_type": "code",
   "execution_count": 10,
   "metadata": {},
   "outputs": [],
   "source": [
    "#functions\n",
    "def remove_by_vif(X,vif=5):\n",
    "    \"\"\"Remove columns from X whose VIF is greater than supplied 'vif'\n",
    "    Parameters:\n",
    "        X:array or dataframe containing data excluding target variable\n",
    "        vif: int or float of limiting value of VIF\n",
    "    Note:\n",
    "        This function changes X inplace\n",
    "    \"\"\"\n",
    "    import statsmodels.api as sm\n",
    "    from statsmodels.stats.outliers_influence import variance_inflation_factor\n",
    "    \n",
    "    removed=[]\n",
    "    for i in range(len(X.columns)):\n",
    "        l = [variance_inflation_factor(X.values, i) for i in range(X.shape[1])]\n",
    "        s=pd.Series(index=X.columns,data=l).sort_values(ascending=False)\n",
    "        if s.iloc[0]>vif:\n",
    "            X.drop(s.index[0],axis=1,inplace=True)\n",
    "            print(s.index[0],', VIF: ',s.iloc[0])\n",
    "            removed.append(s.index[0])\n",
    "        else:\n",
    "            break\n",
    "    return removed\n",
    "            \n",
    "def plot_validation_curve(scores,param_range,param_name,scoring='r2'):\n",
    "    \"\"\"This function plot validation curve.\n",
    "    \n",
    "    Parameters:\n",
    "        scores: scores obtained from validation_curve() method\n",
    "        param_range: list of range of parameters passed as 'param_range' in validation_curve() method\n",
    "        scoring: str\n",
    "    \"\"\"\n",
    "    n=len(param_range)\n",
    "    if scoring=='r2':\n",
    "        train_score=[scores[0][i].mean() for i in range (0,n)]\n",
    "        test_score=[scores[1][i].mean() for i in range (0,n)]\n",
    "    elif scoring=='neg_mean_squared_error':\n",
    "        train_score=[np.sqrt(-scores[0][i].mean()) for i in range (0,n)]\n",
    "        test_score=[np.sqrt(-scores[1][i].mean()) for i in range (0,n)]\n",
    "\n",
    "    fig=plt.figure(figsize=(8,6))\n",
    "    plt.plot(param_range,train_score,label='Train')\n",
    "    plt.plot(param_range,test_score,label='Test')\n",
    "    plt.xticks=param_range\n",
    "    plt.title(\"Validation curve of {}\".format(param_name),size=12)\n",
    "    plt.legend()"
   ]
  },
  {
   "cell_type": "code",
   "execution_count": 11,
   "metadata": {},
   "outputs": [],
   "source": [
    "corr_matrix=data[['Reputation', 'Answers', 'Username', 'Views', 'Upvotes']].corr()"
   ]
  },
  {
   "cell_type": "code",
   "execution_count": 12,
   "metadata": {},
   "outputs": [
    {
     "data": {
      "text/plain": [
       "<matplotlib.axes._subplots.AxesSubplot at 0x1a276a91d0>"
      ]
     },
     "execution_count": 12,
     "metadata": {},
     "output_type": "execute_result"
    },
    {
     "data": {
      "image/png": "[encoded data removed]",
      "text/plain": [
       "<Figure size 432x288 with 2 Axes>"
      ]
     },
     "metadata": {
      "needs_background": "light"
     },
     "output_type": "display_data"
    }
   ],
   "source": [
    "#no highly correlated features\n",
    "#username is not at all correlated with any feature\n",
    "#it has a lot of unique values. It can be ignored\n",
    "sns.heatmap(corr_matrix,cmap='viridis',annot=True)"
   ]
  },
  {
   "cell_type": "markdown",
   "metadata": {},
   "source": [
    "Feature Engineering\n",
    "As features are very less, not much feature engineering can be done. I've done following feature engineering:\n",
    "Polynomial features from numerical features\n",
    "One hot encoding of Tag\n",
    "Tag-wise mean of numberical features\n",
    "Removing some features with high variance inflation factor. This step is necessary of Linear Regression model."
   ]
  },
  {
   "cell_type": "code",
   "execution_count": 13,
   "metadata": {},
   "outputs": [],
   "source": [
    "num_features=['Reputation', 'Answers', 'Views']"
   ]
  },
  {
   "cell_type": "code",
   "execution_count": 14,
   "metadata": {},
   "outputs": [],
   "source": [
    "#1. Getting polynomial features and selecting only newly created features\n",
    "poly=PolynomialFeatures(degree=2,include_bias=False)\n",
    "tmp=pd.DataFrame(poly.fit_transform(data[num_features])).loc[:,len(num_features):]\n",
    "data=data.join(tmp)"
   ]
  },
  {
   "cell_type": "code",
   "execution_count": 15,
   "metadata": {},
   "outputs": [],
   "source": [
    "#2. Tag-wise mean of numberical features\n",
    "tmp=data.groupby('Tag')[num_features].mean()\n",
    "tmp.columns=tmp.columns+'_mean'\n",
    "data=pd.merge(data,tmp.reset_index(),how='left',on='Tag')\n",
    "\n"
   ]
  },
  {
   "cell_type": "code",
   "execution_count": 16,
   "metadata": {},
   "outputs": [],
   "source": [
    "# Username wise count of upvotes. Fill nulls with 0\n",
    "uname_count=data.groupby('Username')['Upvotes'].count().reset_index()\n",
    "uname_count.rename(columns={'Upvotes':'User_Upvote_Count'},inplace=True)\n",
    "data=pd.merge(data,uname_count,how='left',on='Username')\n",
    "data['User_Upvote_Count'].fillna(0,inplace=True)"
   ]
  },
  {
   "cell_type": "code",
   "execution_count": 17,
   "metadata": {},
   "outputs": [],
   "source": [
    "data['uv']=data['Upvotes']/data['Views']\n",
    "uname_uv=data.groupby('Username')['uv'].mean().reset_index()\n",
    "uname_uv.rename(columns={'uv':'User_Upvote_Views_Mean'},inplace=True)\n",
    "data=pd.merge(data,uname_uv,how='left',on='Username')\n",
    "data['User_Upvote_Views_Mean'].fillna(0,inplace=True)\n",
    "\n",
    "data.drop('uv',axis=1,inplace=True)"
   ]
  },
  {
   "cell_type": "code",
   "execution_count": 18,
   "metadata": {},
   "outputs": [],
   "source": [
    "#3. One hot encoding of Tag\n",
    "dummies=pd.get_dummies(data['Tag'],drop_first=True)\n",
    "data=pd.concat([data,dummies],axis=1)\n",
    "data.drop('Tag',axis=1,inplace=True)"
   ]
  },
  {
   "cell_type": "code",
   "execution_count": 19,
   "metadata": {},
   "outputs": [],
   "source": [
    "X=data.drop('Upvotes',axis=1)\n",
    "y=data['Upvotes']"
   ]
  },
  {
   "cell_type": "code",
   "execution_count": 20,
   "metadata": {},
   "outputs": [
    {
     "name": "stderr",
     "output_type": "stream",
     "text": [
      "/anaconda3/lib/python3.7/site-packages/statsmodels/stats/outliers_influence.py:181: RuntimeWarning: divide by zero encountered in double_scalars\n",
      "  vif = 1. / (1. - r_squared_i)\n"
     ]
    },
    {
     "name": "stdout",
     "output_type": "stream",
     "text": [
      "x , VIF:  inf\n",
      "Answers_mean , VIF:  9007199254740992.0\n",
      "c , VIF:  22.418724336647497\n",
      "7 , VIF:  9.241929632523291\n"
     ]
    }
   ],
   "source": [
    "#4. Check multicolinearity\n",
    "removed_by_vif=remove_by_vif(X.copy())\n",
    "# removed_by_vif=['p','j','c']\n",
    "X=X.drop(removed_by_vif,axis=1)"
   ]
  },
  {
   "cell_type": "code",
   "execution_count": 21,
   "metadata": {},
   "outputs": [],
   "source": [
    "X.drop('ID',axis=1,inplace=True)\n"
   ]
  },
  {
   "cell_type": "code",
   "execution_count": 22,
   "metadata": {},
   "outputs": [],
   "source": [
    "#train-test split\n",
    "X_train, X_test, y_train, y_test = train_test_split(X, y, test_size=0.2, random_state=60)\n",
    "\n",
    "\n"
   ]
  },
  {
   "cell_type": "code",
   "execution_count": 23,
   "metadata": {},
   "outputs": [],
   "source": [
    "X_train, X_val, y_train, y_val = train_test_split(X_train, y_train, test_size=0.2, random_state=60)"
   ]
  },
  {
   "cell_type": "code",
   "execution_count": 24,
   "metadata": {},
   "outputs": [
    {
     "name": "stderr",
     "output_type": "stream",
     "text": [
      "/anaconda3/lib/python3.7/site-packages/sklearn/preprocessing/data.py:645: DataConversionWarning: Data with input dtype uint8, int64, float64 were all converted to float64 by StandardScaler.\n",
      "  return self.partial_fit(X, y)\n",
      "/anaconda3/lib/python3.7/site-packages/sklearn/base.py:464: DataConversionWarning: Data with input dtype uint8, int64, float64 were all converted to float64 by StandardScaler.\n",
      "  return self.fit(X, **fit_params).transform(X)\n",
      "/anaconda3/lib/python3.7/site-packages/ipykernel_launcher.py:4: DataConversionWarning: Data with input dtype uint8, int64, float64 were all converted to float64 by StandardScaler.\n",
      "  after removing the cwd from sys.path.\n",
      "/anaconda3/lib/python3.7/site-packages/ipykernel_launcher.py:5: DataConversionWarning: Data with input dtype uint8, int64, float64 were all converted to float64 by StandardScaler.\n",
      "  \"\"\"\n"
     ]
    }
   ],
   "source": [
    "#scaling\n",
    "std=StandardScaler()\n",
    "X_train_scaled=pd.DataFrame(std.fit_transform(X_train),columns=X_train.columns,index=X_train.index)\n",
    "X_val_scaled=pd.DataFrame(std.transform(X_val),columns=X_val.columns,index=X_val.index)\n",
    "X_test_scaled=pd.DataFrame(std.transform(X_test),columns=X_test.columns,index=X_test.index)"
   ]
  },
  {
   "cell_type": "code",
   "execution_count": 25,
   "metadata": {},
   "outputs": [],
   "source": [
    "scoring='neg_mean_squared_error'"
   ]
  },
  {
   "cell_type": "code",
   "execution_count": 26,
   "metadata": {},
   "outputs": [
    {
     "name": "stdout",
     "output_type": "stream",
     "text": [
      "RMSE:  1382.5869064169697\n"
     ]
    }
   ],
   "source": [
    "lr=LinearRegression()\n",
    "scores=cross_val_score(lr,X_train_scaled,y_train,n_jobs=-1,cv=5,scoring=scoring)\n",
    "print('RMSE: ',np.sqrt(-scores).mean())"
   ]
  },
  {
   "cell_type": "code",
   "execution_count": 27,
   "metadata": {},
   "outputs": [
    {
     "data": {
      "text/plain": [
       "LinearRegression(copy_X=True, fit_intercept=True, n_jobs=None,\n",
       "         normalize=False)"
      ]
     },
     "execution_count": 27,
     "metadata": {},
     "output_type": "execute_result"
    }
   ],
   "source": [
    "lr.fit(X_train_scaled,y_train)"
   ]
  },
  {
   "cell_type": "code",
   "execution_count": 28,
   "metadata": {},
   "outputs": [
    {
     "name": "stdout",
     "output_type": "stream",
     "text": [
      "Train RMSE: 1240.551456086003\n",
      "Test RMSE: 788.5020175193273\n"
     ]
    }
   ],
   "source": [
    "# Result on test\n",
    "y_train_pred=lr.predict(X_train_scaled)\n",
    "y_val_pred=lr.predict(X_val_scaled)\n",
    "y_pred_lr=np.append(y_train_pred,y_val_pred)\n",
    "print('Train RMSE:',np.sqrt(mean_squared_error(y_train,y_train_pred)))\n",
    "print('Test RMSE:',np.sqrt(mean_squared_error(y_val,y_val_pred)))\n"
   ]
  },
  {
   "cell_type": "code",
   "execution_count": 29,
   "metadata": {},
   "outputs": [
    {
     "name": "stderr",
     "output_type": "stream",
     "text": [
      "/anaconda3/lib/python3.7/site-packages/xgboost/core.py:587: FutureWarning: Series.base is deprecated and will be removed in a future version\n",
      "  if getattr(data, 'base', None) is not None and \\\n"
     ]
    },
    {
     "name": "stdout",
     "output_type": "stream",
     "text": [
      "[02:10:23] WARNING: src/objective/regression_obj.cu:152: reg:linear is now deprecated in favor of reg:squarederror.\n",
      "Train RMSE: 613.9545125119132\n",
      "Test RMSE: 899.2489673714734\n"
     ]
    }
   ],
   "source": [
    "# Baseline Model\n",
    "xgb=XGBRegressor(random_state=50)\n",
    "xgb.fit(X_train_scaled,y_train)\n",
    "y_train_pred=xgb.predict(X_train_scaled)\n",
    "y_val_pred=xgb.predict(X_val_scaled)\n",
    "print('Train RMSE:',np.sqrt(mean_squared_error(y_train,y_train_pred)))\n",
    "print('Test RMSE:',np.sqrt(mean_squared_error(y_val,y_val_pred)))"
   ]
  },
  {
   "cell_type": "code",
   "execution_count": null,
   "metadata": {},
   "outputs": [],
   "source": [
    "pip install -e git://github.com/YannDubs/scikit-optimize.git#egg=scikit-optimize"
   ]
  },
  {
   "cell_type": "code",
   "execution_count": null,
   "metadata": {},
   "outputs": [],
   "source": [
    "pip install scikit-learn==0.20.3"
   ]
  },
  {
   "cell_type": "code",
   "execution_count": 31,
   "metadata": {},
   "outputs": [],
   "source": [
    "from skopt import BayesSearchCV"
   ]
  },
  {
   "cell_type": "code",
   "execution_count": 33,
   "metadata": {},
   "outputs": [
    {
     "name": "stderr",
     "output_type": "stream",
     "text": [
      "/anaconda3/lib/python3.7/site-packages/xgboost/core.py:587: FutureWarning: Series.base is deprecated and will be removed in a future version\n",
      "  if getattr(data, 'base', None) is not None and \\\n"
     ]
    },
    {
     "name": "stdout",
     "output_type": "stream",
     "text": [
      "[02:56:16] WARNING: src/objective/regression_obj.cu:152: reg:linear is now deprecated in favor of reg:squarederror.\n"
     ]
    },
    {
     "data": {
      "text/plain": [
       "BayesSearchCV(cv=3, error_score='raise',\n",
       "       estimator=XGBRegressor(base_score=0.5, booster='gbtree', colsample_bylevel=1,\n",
       "       colsample_bynode=1, colsample_bytree=1, gamma=0,\n",
       "       importance_type='gain', learning_rate=0.1, max_delta_step=0,\n",
       "       max_depth=3, min_child_weight=1, missing=None, n_estimators=100,\n",
       "       n_jobs=-1, nthread=None, objective='reg:linear', random_state=0,\n",
       "       reg_alpha=0, reg_lambda=1, scale_pos_weight=1, seed=None,\n",
       "       silent=None, subsample=1, tree_method='approx', verbosity=1),\n",
       "       fit_params=None, iid=True, n_iter=50, n_jobs=-1, n_points=1,\n",
       "       optimizer_kwargs=None, pre_dispatch='2*n_jobs', random_state=42,\n",
       "       refit=True, return_train_score=False,\n",
       "       scoring='neg_mean_squared_error',\n",
       "       search_spaces={'learning_rate': (0.01, 1.0, 'log-uniform'), 'min_child_weight': (0, 20), 'max_depth': (3, 5), 'subsample': (0.1, 1.0, 'uniform'), 'colsample_bytree': (0.1, 1.0, 'uniform'), 'colsample_bylevel': (0.1, 1.0, 'uniform'), 'reg_lambda': (0.001, 1000, 'log-uniform'), 'reg_alpha': (0.001, 1.0, 'log-uniform'), 'base_score': (0.0001, 0.5, 'log-uniform')},\n",
       "       verbose=0)"
      ]
     },
     "execution_count": 33,
     "metadata": {},
     "output_type": "execute_result"
    }
   ],
   "source": [
    "# Bayesian Optimization\n",
    "opt = BayesSearchCV(\n",
    "    estimator = XGBRegressor(\n",
    "        n_jobs = -1,\n",
    "        tree_method='approx'\n",
    "    ),\n",
    "    search_spaces = {\n",
    "        'learning_rate': (0.01, 1.0, 'log-uniform'),\n",
    "        'min_child_weight': (0, 20),\n",
    "        'max_depth': (3, 5),\n",
    "#         'max_delta_step': (0, 20),\n",
    "        'subsample': (0.1, 1.0, 'uniform'),\n",
    "        'colsample_bytree': (0.1, 1.0, 'uniform'),\n",
    "        'colsample_bylevel': (0.1, 1.0, 'uniform'),\n",
    "        'reg_lambda': (1e-3, 1000, 'log-uniform'),\n",
    "        'reg_alpha': (1e-3, 1.0, 'log-uniform'),\n",
    "#         'gamma': (1e-9, 0.5, 'log-uniform'),\n",
    "        'base_score':((1e-4, 0.5, 'log-uniform'))\n",
    "    },    \n",
    "    scoring = scoring,\n",
    "    cv =3,\n",
    "    n_jobs = -1,\n",
    "    refit = True,\n",
    "    random_state = 42\n",
    ")\n",
    "\n",
    "opt.fit(X_train_scaled,y_train)"
   ]
  },
  {
   "cell_type": "code",
   "execution_count": 34,
   "metadata": {},
   "outputs": [
    {
     "data": {
      "text/plain": [
       "{'base_score': 0.010233675637995395,\n",
       " 'colsample_bylevel': 0.9280083037935848,\n",
       " 'colsample_bytree': 0.5468200332370451,\n",
       " 'learning_rate': 0.4734922490673386,\n",
       " 'max_depth': 4,\n",
       " 'min_child_weight': 1,\n",
       " 'reg_alpha': 0.051562433767293754,\n",
       " 'reg_lambda': 0.0014282574902502736,\n",
       " 'subsample': 0.44715663188619825}"
      ]
     },
     "execution_count": 34,
     "metadata": {},
     "output_type": "execute_result"
    }
   ],
   "source": [
    "opt.best_params_"
   ]
  },
  {
   "cell_type": "code",
   "execution_count": 35,
   "metadata": {},
   "outputs": [
    {
     "name": "stdout",
     "output_type": "stream",
     "text": [
      "[06:57:01] WARNING: src/objective/regression_obj.cu:152: reg:linear is now deprecated in favor of reg:squarederror.\n",
      "Train RMSE: 428.82607238504386\n",
      "Test RMSE: 1094.6347037836542\n"
     ]
    }
   ],
   "source": [
    "#Tuned Model\n",
    "xgb=XGBRegressor(random_state=51,n_jobs=-1,**opt.best_params_)\n",
    "xgb.fit(X_train_scaled,y_train)\n",
    "y_train_pred=xgb.predict(X_train_scaled)\n",
    "y_val_pred=xgb.predict(X_val_scaled)\n",
    "y_pred_xgb=np.append(y_train_pred,y_val_pred)\n",
    "print('Train RMSE:',np.sqrt(mean_squared_error(y_train,y_train_pred)))\n",
    "print('Test RMSE:',np.sqrt(mean_squared_error(y_val,y_val_pred)))"
   ]
  },
  {
   "cell_type": "code",
   "execution_count": 36,
   "metadata": {},
   "outputs": [
    {
     "name": "stdout",
     "output_type": "stream",
     "text": [
      "RMSE:  1914.0921432808082\n"
     ]
    }
   ],
   "source": [
    "#cross-val-score\n",
    "xgb=XGBRegressor(random_state=50,**opt.best_params_)\n",
    "scores=cross_val_score(xgb,X_train_scaled,y_train,n_jobs=-1,cv=3,scoring=scoring)\n",
    "print('RMSE: ',np.sqrt(-scores).mean())"
   ]
  },
  {
   "cell_type": "code",
   "execution_count": 37,
   "metadata": {},
   "outputs": [
    {
     "name": "stdout",
     "output_type": "stream",
     "text": [
      "[06:57:59] WARNING: src/objective/regression_obj.cu:152: reg:linear is now deprecated in favor of reg:squarederror.\n"
     ]
    },
    {
     "name": "stderr",
     "output_type": "stream",
     "text": [
      "/anaconda3/lib/python3.7/site-packages/xgboost/core.py:587: FutureWarning: Series.base is deprecated and will be removed in a future version\n",
      "  if getattr(data, 'base', None) is not None and \\\n"
     ]
    },
    {
     "data": {
      "text/html": [
       "<div>\n",
       "<style scoped>\n",
       "    .dataframe tbody tr th:only-of-type {\n",
       "        vertical-align: middle;\n",
       "    }\n",
       "\n",
       "    .dataframe tbody tr th {\n",
       "        vertical-align: top;\n",
       "    }\n",
       "\n",
       "    .dataframe thead th {\n",
       "        text-align: right;\n",
       "    }\n",
       "</style>\n",
       "<table border=\"1\" class=\"dataframe\">\n",
       "  <thead>\n",
       "    <tr style=\"text-align: right;\">\n",
       "      <th></th>\n",
       "      <th>0</th>\n",
       "    </tr>\n",
       "  </thead>\n",
       "  <tbody>\n",
       "    <tr>\n",
       "      <th>3</th>\n",
       "      <td>0.305737</td>\n",
       "    </tr>\n",
       "    <tr>\n",
       "      <th>5</th>\n",
       "      <td>0.304489</td>\n",
       "    </tr>\n",
       "    <tr>\n",
       "      <th>8</th>\n",
       "      <td>0.090985</td>\n",
       "    </tr>\n",
       "    <tr>\n",
       "      <th>Reputation</th>\n",
       "      <td>0.060210</td>\n",
       "    </tr>\n",
       "    <tr>\n",
       "      <th>Answers</th>\n",
       "      <td>0.047456</td>\n",
       "    </tr>\n",
       "  </tbody>\n",
       "</table>\n",
       "</div>"
      ],
      "text/plain": [
       "                   0\n",
       "3           0.305737\n",
       "5           0.304489\n",
       "8           0.090985\n",
       "Reputation  0.060210\n",
       "Answers     0.047456"
      ]
     },
     "execution_count": 37,
     "metadata": {},
     "output_type": "execute_result"
    }
   ],
   "source": [
    "#Feature importance\n",
    "xgb=XGBRegressor(random_state=51,n_jobs=-1,**opt.best_params_)\n",
    "xgb.fit(X_train_scaled,y_train)\n",
    "pd.DataFrame(xgb.feature_importances_,index=X_train.columns).sort_values(0,ascending=False).head()"
   ]
  },
  {
   "cell_type": "code",
   "execution_count": null,
   "metadata": {},
   "outputs": [],
   "source": []
  },
  {
   "cell_type": "code",
   "execution_count": 38,
   "metadata": {},
   "outputs": [],
   "source": [
    "# Stacking\n",
    "\n",
    "y_pred_stack=(y_pred_lr+y_pred_xgb)/2"
   ]
  },
  {
   "cell_type": "code",
   "execution_count": 39,
   "metadata": {},
   "outputs": [
    {
     "name": "stdout",
     "output_type": "stream",
     "text": [
      "Train RMSE: 715.4225631204946\n",
      "Test RMSE: 887.074382185413\n"
     ]
    }
   ],
   "source": [
    "y_train_pred=y_pred_stack[:len(y_train)]\n",
    "y_val_pred=y_pred_stack[len(y_train):]\n",
    "print('Train RMSE:',np.sqrt(mean_squared_error(y_train,y_train_pred)))\n",
    "print('Test RMSE:',np.sqrt(mean_squared_error(y_val,y_val_pred)))"
   ]
  },
  {
   "cell_type": "code",
   "execution_count": 40,
   "metadata": {},
   "outputs": [],
   "source": [
    "X_train_1=pd.concat([X_train_scaled,X_val_scaled])\n",
    "y_train_1=pd.concat([y_train,y_val])"
   ]
  },
  {
   "cell_type": "code",
   "execution_count": 41,
   "metadata": {},
   "outputs": [],
   "source": [
    "lr.fit(X_train_1,y_train_1)\n",
    "y_pred_lr=lr.predict(X_test_scaled)"
   ]
  },
  {
   "cell_type": "code",
   "execution_count": 42,
   "metadata": {},
   "outputs": [
    {
     "name": "stderr",
     "output_type": "stream",
     "text": [
      "/anaconda3/lib/python3.7/site-packages/xgboost/core.py:587: FutureWarning: Series.base is deprecated and will be removed in a future version\n",
      "  if getattr(data, 'base', None) is not None and \\\n"
     ]
    },
    {
     "name": "stdout",
     "output_type": "stream",
     "text": [
      "[06:58:38] WARNING: src/objective/regression_obj.cu:152: reg:linear is now deprecated in favor of reg:squarederror.\n",
      "Test RMSE: 1347.8210509391397\n"
     ]
    }
   ],
   "source": [
    "# XGB\n",
    "xgb=XGBRegressor(random_state=51,n_jobs=-1,**opt.best_params_)\n",
    "xgb.fit(X_train_1,y_train_1)\n",
    "y_pred_xgb=xgb.predict(X_test_scaled)\n",
    "print('Test RMSE:',np.sqrt(mean_squared_error(y_test,y_pred_xgb)))"
   ]
  },
  {
   "cell_type": "code",
   "execution_count": 43,
   "metadata": {},
   "outputs": [
    {
     "name": "stdout",
     "output_type": "stream",
     "text": [
      "Test RMSE: 987.9763853461221\n"
     ]
    }
   ],
   "source": [
    "#Stack\n",
    "y_pred_stack=(y_pred_lr+y_pred_xgb)/2\n",
    "print('Test RMSE:',np.sqrt(mean_squared_error(y_test,y_pred_stack)))"
   ]
  },
  {
   "cell_type": "code",
   "execution_count": 44,
   "metadata": {},
   "outputs": [
    {
     "name": "stderr",
     "output_type": "stream",
     "text": [
      "/anaconda3/lib/python3.7/site-packages/sklearn/preprocessing/data.py:645: DataConversionWarning: Data with input dtype uint8, int64, float64 were all converted to float64 by StandardScaler.\n",
      "  return self.partial_fit(X, y)\n",
      "/anaconda3/lib/python3.7/site-packages/sklearn/base.py:464: DataConversionWarning: Data with input dtype uint8, int64, float64 were all converted to float64 by StandardScaler.\n",
      "  return self.fit(X, **fit_params).transform(X)\n",
      "/anaconda3/lib/python3.7/site-packages/ipykernel_launcher.py:31: DataConversionWarning: Data with input dtype uint8, int64, float64 were all converted to float64 by StandardScaler.\n"
     ]
    }
   ],
   "source": [
    "# Data preparation\n",
    "X_scaled=pd.DataFrame(std.fit_transform(X),columns=X.columns,index=X.index)\n",
    "\n",
    "# Polynomial Features\n",
    "tmp=pd.DataFrame(poly.transform(test[num_features])).loc[:,len(num_features):]\n",
    "test=test.join(tmp)\n",
    "\n",
    "#Tag wise mean of num features\n",
    "tmp=test.groupby('Tag')[num_features].mean()\n",
    "tmp.columns=tmp.columns+'_mean'\n",
    "test=pd.merge(test,tmp.reset_index(),how='left',on='Tag')\n",
    "\n",
    "# Userwise upvotes count\n",
    "test=pd.merge(test,uname_count,how='left',on='Username')\n",
    "test['User_Upvote_Count'].fillna(0,inplace=True)\n",
    "\n",
    "# Userwise upvotes,views mean\n",
    "test=pd.merge(test,uname_uv,how='left',on='Username')\n",
    "test['User_Upvote_Views_Mean'].fillna(0,inplace=True)\n",
    "\n",
    "# One hot encoding of Tag\n",
    "dummies=pd.get_dummies(test['Tag'],drop_first=True)\n",
    "test=pd.concat([test,dummies],axis=1)\n",
    "test.drop('Tag',axis=1,inplace=True)\n",
    "\n",
    "# remove columns with high vif\n",
    "test_ids=test['ID']\n",
    "test.drop(['ID']+removed_by_vif,axis=1,inplace=True)\n",
    "\n",
    "#scaling\n",
    "test_scaled=pd.DataFrame(std.transform(test),columns=test.columns)"
   ]
  },
  {
   "cell_type": "code",
   "execution_count": 45,
   "metadata": {},
   "outputs": [
    {
     "name": "stderr",
     "output_type": "stream",
     "text": [
      "/anaconda3/lib/python3.7/site-packages/xgboost/core.py:587: FutureWarning: Series.base is deprecated and will be removed in a future version\n",
      "  if getattr(data, 'base', None) is not None and \\\n",
      "/anaconda3/lib/python3.7/site-packages/xgboost/core.py:588: FutureWarning: Series.base is deprecated and will be removed in a future version\n",
      "  data.base is not None and isinstance(data, np.ndarray) \\\n"
     ]
    },
    {
     "name": "stdout",
     "output_type": "stream",
     "text": [
      "[06:59:08] WARNING: src/objective/regression_obj.cu:152: reg:linear is now deprecated in favor of reg:squarederror.\n"
     ]
    },
    {
     "data": {
      "text/plain": [
       "XGBRegressor(base_score=0.010233675637995395, booster='gbtree',\n",
       "       colsample_bylevel=0.9280083037935848, colsample_bynode=1,\n",
       "       colsample_bytree=0.5468200332370451, gamma=0,\n",
       "       importance_type='gain', learning_rate=0.4734922490673386,\n",
       "       max_delta_step=0, max_depth=4, min_child_weight=1, missing=None,\n",
       "       n_estimators=100, n_jobs=-1, nthread=None, objective='reg:linear',\n",
       "       random_state=51, reg_alpha=0.051562433767293754,\n",
       "       reg_lambda=0.0014282574902502736, scale_pos_weight=1, seed=None,\n",
       "       silent=None, subsample=0.44715663188619825, verbosity=1)"
      ]
     },
     "execution_count": 45,
     "metadata": {},
     "output_type": "execute_result"
    }
   ],
   "source": [
    "lr=LinearRegression()\n",
    "xgb=XGBRegressor(random_state=51,n_jobs=-1,**opt.best_params_)\n",
    "std=StandardScaler()\n",
    "lr.fit(X_scaled,y)\n",
    "xgb.fit(X_scaled,y)"
   ]
  },
  {
   "cell_type": "code",
   "execution_count": 46,
   "metadata": {},
   "outputs": [],
   "source": [
    "y_pred_lr=lr.predict(test_scaled)\n",
    "y_pred_xgb=xgb.predict(test_scaled)\n",
    "y_pred_stacked=(y_pred_lr+y_pred_xgb)/2"
   ]
  },
  {
   "cell_type": "code",
   "execution_count": 47,
   "metadata": {},
   "outputs": [],
   "source": [
    "submission=pd.DataFrame(index=test_ids)\n",
    "submission['Upvotes']=list(map(int,y_pred_stacked))"
   ]
  },
  {
   "cell_type": "code",
   "execution_count": 48,
   "metadata": {},
   "outputs": [],
   "source": [
    "submission.to_csv('SubmissionBayesian.csv')"
   ]
  },
  {
   "cell_type": "code",
   "execution_count": null,
   "metadata": {},
   "outputs": [],
   "source": []
  }
 ],
 "metadata": {
  "kernelspec": {
   "display_name": "Python 3",
   "language": "python",
   "name": "python3"
  },
  "language_info": {
   "codemirror_mode": {
    "name": "ipython",
    "version": 3
   },
   "file_extension": ".py",
   "mimetype": "text/x-python",
   "name": "python",
   "nbconvert_exporter": "python",
   "pygments_lexer": "ipython3",
   "version": "3.7.3"
  }
 },
 "nbformat": 4,
 "nbformat_minor": 2
}
